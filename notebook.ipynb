{
 "cells": [
  {
   "cell_type": "markdown",
   "id": "17ec8d6a-4218-49b9-a549-0977cec82967",
   "metadata": {
    "id": "MVpsYfWg3z0B"
   },
   "source": [
    "# PW1 - Handwritten character recognition\n"
   ]
  },
  {
   "cell_type": "code",
   "execution_count": 1,
   "id": "d682452d-e56e-4de8-a420-4418d63790a7",
   "metadata": {},
   "outputs": [],
   "source": [
    "# Write your name here (e.g. \"Edmond Dantès\") so I can grade your work\n",
    "your_name = \"Ismael DEMBELE\"    \n",
    "assert your_name"
   ]
  },
  {
   "cell_type": "code",
   "execution_count": 1,
   "id": "f8538cf7-81e0-481a-8059-be38b611aafb",
   "metadata": {
    "id": "8CcAqNjJ3z0F"
   },
   "outputs": [],
   "source": [
    "%matplotlib inline\n",
    "import math, sys, os, torch, torchvision\n",
    "from torch import nn\n",
    "import numpy as np\n",
    "import matplotlib.pyplot as plt\n",
    "import torch.nn.functional as F\n",
    "from torch.utils.data import DataLoader\n",
    "from torchvision import datasets, transforms\n",
    "import random"
   ]
  },
  {
   "cell_type": "code",
   "execution_count": 3,
   "id": "c864b86e-6e6b-4d8a-82c8-6822072a676f",
   "metadata": {
    "id": "3Wxb9pdV3z0F"
   },
   "outputs": [
    {
     "name": "stdout",
     "output_type": "stream",
     "text": [
      "Using gpu: True \n"
     ]
    }
   ],
   "source": [
    "device = torch.device(\"cuda:0\" if torch.cuda.is_available() else \"cpu\")\n",
    "print('Using gpu: %s ' % torch.cuda.is_available())"
   ]
  },
  {
   "cell_type": "markdown",
   "id": "aa038da6-b812-4053-9b72-8ff97ceb3b9b",
   "metadata": {
    "id": "1Sjq8zzf3z0G"
   },
   "source": [
    "We will be training many models. Select a number of epochs to train each model. If you are using a slow machine, or if you want to restart training often and have many development iterations, we suggest `NUM_EPOCH = 2`. If you are using a fast machine, or have a GPU available, of if you are confident that you can write accurate code first try, you will get better accuracies by increasing this constant. You could be able to afford up to `NUM_EPOCH = 10`."
   ]
  },
  {
   "cell_type": "code",
   "execution_count": 4,
   "id": "137adce6-13cc-4ccc-aaf3-42230e322a9b",
   "metadata": {
    "id": "L9CF0H4O3z0G"
   },
   "outputs": [],
   "source": [
    "NUM_EPOCH = 5\n",
    "SEED = 42\n",
    "torch.manual_seed(SEED)\n",
    "np.random.seed(SEED)\n",
    "random.seed(SEED)"
   ]
  },
  {
   "cell_type": "markdown",
   "id": "6ce850e9-ef4e-4323-af2d-be6b94e98994",
   "metadata": {
    "id": "65e20f5e"
   },
   "source": [
    "# Part A - Linear, MLP, and CNN\n"
   ]
  },
  {
   "cell_type": "markdown",
   "id": "05aff4bd-8b1d-4531-89d8-64ce4e2b6357",
   "metadata": {
    "id": "KSAiV2ov3z0H"
   },
   "source": [
    "## Handwritten digit recognition dataset\n",
    "\n",
    "We will use the MNIST database (Modified National Institute of Standards and Technology database). It contains tens of thousands of pictures of handwritten digits. This database was compiled in 1994, as part of the effort in the 1990s to standardize automation of sorting devices with human input, for instance sorting mail with handwritten postal codes at the post office. This is now often considered one of the first real successes of neural networks, and the first easy example on which performance of new such algorithms is tested."
   ]
  },
  {
   "cell_type": "markdown",
   "id": "3429898a-0f57-4cdf-9aa6-7b1121ee4e53",
   "metadata": {},
   "source": [
    "Load the dataset (train and test splits) using `torchvision`"
   ]
  },
  {
   "cell_type": "code",
   "execution_count": 5,
   "id": "59e1c523-4b78-492a-b103-2861af8c3d89",
   "metadata": {
    "id": "Zu3hU4dQ3z0H"
   },
   "outputs": [],
   "source": [
    "root_dir = './data/MNIST/'\n",
    "\n",
    "transform = transforms.Compose([\n",
    "    transforms.ToTensor(),\n",
    "    transforms.Normalize((0.1307,), (0.3081,))  # μ, σ standard pour MNIST\n",
    "])\n",
    "\n",
    "train_data = datasets.MNIST(root=root_dir, train=True, download=True, transform=transform)\n",
    "test_data   = datasets.MNIST(root=root_dir, train=False, download=True, transform=transform)\n",
    "\n",
    "BATCH_SIZE=64\n",
    "train_loader = DataLoader(train_data, batch_size=BATCH_SIZE, shuffle=True)\n",
    "test_loader  = DataLoader(test_data, batch_size=BATCH_SIZE)"
   ]
  },
  {
   "cell_type": "markdown",
   "id": "d77fbaba-b01f-46d0-a1d7-47c59faaf042",
   "metadata": {},
   "source": [
    "How many examples in each split? \n",
    "\n",
    "Plot the first image and label of the training set using `matplotlib`\n",
    "\n",
    "What is the input dimension?"
   ]
  },
  {
   "cell_type": "code",
   "execution_count": 6,
   "id": "083f07f4-e129-4e9b-b26e-a32fd4bdb99d",
   "metadata": {
    "id": "9fgMls5P3z0I",
    "scrolled": true
   },
   "outputs": [
    {
     "name": "stdout",
     "output_type": "stream",
     "text": [
      "Nombre d'exemples dans le train : 60000\n",
      "Nombre d'exemples dans le test  : 10000\n"
     ]
    }
   ],
   "source": [
    "print(f\"Nombre d'exemples dans le train : {len(train_data)}\")\n",
    "print(f\"Nombre d'exemples dans le test  : {len(test_data)}\")"
   ]
  },
  {
   "cell_type": "code",
   "execution_count": 7,
   "id": "dc2fbd26-b017-435a-822e-ad382eabd8a4",
   "metadata": {},
   "outputs": [
    {
     "data": {
      "image/png": "[encoded data removed]",
      "text/plain": [
       "<Figure size 640x480 with 1 Axes>"
      ]
     },
     "metadata": {},
     "output_type": "display_data"
    }
   ],
   "source": [
    "image, label = train_data[12]\n",
    "\n",
    "plt.imshow(image.squeeze(), cmap='gray')\n",
    "plt.title(f\"Label : {label}\")\n",
    "plt.axis('off')\n",
    "plt.show()"
   ]
  },
  {
   "cell_type": "code",
   "execution_count": 8,
   "id": "39a3f247",
   "metadata": {},
   "outputs": [
    {
     "name": "stdout",
     "output_type": "stream",
     "text": [
      "Shape du tenseur image : torch.Size([1, 28, 28])\n"
     ]
    }
   ],
   "source": [
    "print(f\"Shape du tenseur image : {image.shape}\")"
   ]
  },
  {
   "cell_type": "markdown",
   "id": "f6380c03-1427-4dea-974e-5a38621ea6c1",
   "metadata": {
    "id": "Guv5_hY63z0L"
   },
   "source": [
    "# A.1 - Linear features\n",
    "\n",
    "We start with a very simple model, linear with respect to pixel values.\n",
    "Use a `preprocess` function to downsample the image to 7x7 pixels, then flatten it and use a `torch.nn.Linear` model.\n",
    "\n",
    "The torch average-pooling function is `torch.nn.functional.avg_pool2d`, check the documentation to set the arguments properly.\n",
    "DO NOT use your implementation of average-pooling, it would take prohibitively long to train and you would not finish the practical.\n",
    "If the training takes too long, go back to the first section and lower the `NUM_EPOCH` constant."
   ]
  },
  {
   "cell_type": "markdown",
   "id": "f2bb8e5d-7d84-4a59-aa5d-e942ffa22aa8",
   "metadata": {},
   "source": [
    "Again, use matplotlib to visualize an example of downsampling"
   ]
  },
  {
   "cell_type": "code",
   "execution_count": 9,
   "id": "ac111d5c-dfa2-44e2-9a57-f2f4c2caff2d",
   "metadata": {},
   "outputs": [
    {
     "data": {
      "image/png": "[encoded data removed]",
      "text/plain": [
       "<Figure size 640x480 with 1 Axes>"
      ]
     },
     "metadata": {},
     "output_type": "display_data"
    }
   ],
   "source": [
    "# Récupère une image\n",
    "image, label = train_data[12]  # image: [1, 28, 28]\n",
    "\n",
    "# Downsampling à 7x7\n",
    "downsampled = F.interpolate(image.unsqueeze(0), size=(7, 7), mode='bilinear', align_corners=False)\n",
    "\n",
    "# Affichage\n",
    "plt.imshow(downsampled.squeeze(), cmap='gray')\n",
    "plt.title(\"Image downsampled à 7×7\")\n",
    "plt.axis('off')\n",
    "plt.show()"
   ]
  },
  {
   "cell_type": "code",
   "execution_count": 10,
   "id": "44996c62",
   "metadata": {},
   "outputs": [],
   "source": [
    "# 📊 Visualisation : désnormalisation pour affichage\n",
    "def show_img(x):\n",
    "    \"\"\"Affiche une image MNIST normalisée\"\"\"\n",
    "    x = x * 0.3081 + 0.1307  # Inverse Normalize\n",
    "    plt.imshow(x.squeeze(), cmap=\"gray\")\n",
    "    plt.axis(\"off\")\n",
    "    plt.show()\n",
    "\n",
    "# 🧹 Prétraitement : pooling + flatten\n",
    "def preprocess(x):\n",
    "    x = F.avg_pool2d(x, kernel_size=4)  # [B, 1, 28, 28] → [B, 1, 7, 7]\n",
    "    return x.view(x.size(0), -1)        # [B, 1, 7, 7] → [B, 49]"
   ]
  },
  {
   "cell_type": "code",
   "execution_count": 11,
   "id": "8c96deb1",
   "metadata": {},
   "outputs": [
    {
     "name": "stdout",
     "output_type": "stream",
     "text": [
      "[Epoch 1] Train acc: 82.25%, Loss: 0.6800\n",
      "[Epoch 2] Train acc: 86.30%, Loss: 0.4778\n",
      "[Epoch 3] Train acc: 86.87%, Loss: 0.4484\n",
      "[Epoch 4] Train acc: 87.20%, Loss: 0.4337\n",
      "[Epoch 5] Train acc: 87.38%, Loss: 0.4243\n",
      "\n",
      "✅ Final Test Accuracy: 88.46%\n"
     ]
    }
   ],
   "source": [
    "# Modèle linéaire : 49 entrées (7x7) → 10 classes\n",
    "model = nn.Linear(49, 10)\n",
    "\n",
    "# Fonction de coût et optimiseur\n",
    "loss_fn = nn.CrossEntropyLoss()\n",
    "optimizer = torch.optim.SGD(model.parameters(), lr=0.1)\n",
    "\n",
    "# Boucle d'entraînement\n",
    "train_acc_list, test_acc_list, loss_list = [], [], []\n",
    "\n",
    "for epoch in range(NUM_EPOCH):\n",
    "    model.train()\n",
    "    correct = total = 0\n",
    "    total_loss = 0\n",
    "\n",
    "    for x, y in train_loader:\n",
    "        x = preprocess(x)\n",
    "        preds = model(x)\n",
    "        loss = loss_fn(preds, y)\n",
    "\n",
    "        optimizer.zero_grad()\n",
    "        loss.backward()\n",
    "        optimizer.step()\n",
    "\n",
    "        total_loss += loss.item() * x.size(0)\n",
    "        correct += (preds.argmax(1) == y).sum().item()\n",
    "        total += y.size(0)\n",
    "\n",
    "    acc = correct / total\n",
    "    train_acc_list.append(acc)\n",
    "    loss_list.append(total_loss / total)\n",
    "    print(f\"[Epoch {epoch+1}] Train acc: {acc*100:.2f}%, Loss: {total_loss/total:.4f}\")\n",
    "\n",
    "# 🧪 Évaluation finale\n",
    "model.eval()\n",
    "correct = total = 0\n",
    "\n",
    "with torch.no_grad():\n",
    "    for x, y in test_loader:\n",
    "        x = preprocess(x)\n",
    "        preds = model(x)\n",
    "        correct += (preds.argmax(1) == y).sum().item()\n",
    "        total += y.size(0)\n",
    "\n",
    "test_acc = correct / total\n",
    "print(f\"\\n✅ Final Test Accuracy: {test_acc * 100:.2f}%\")"
   ]
  },
  {
   "cell_type": "code",
   "execution_count": 12,
   "id": "e204b6c5",
   "metadata": {},
   "outputs": [
    {
     "data": {
      "image/png": "[encoded data removed]",
      "text/plain": [
       "<Figure size 1200x400 with 2 Axes>"
      ]
     },
     "metadata": {},
     "output_type": "display_data"
    }
   ],
   "source": [
    "# 📉 Affichage des courbes\n",
    "plt.figure(figsize=(12, 4))\n",
    "plt.subplot(1, 2, 1)\n",
    "plt.plot(train_acc_list, label=\"Train Accuracy\")\n",
    "plt.xlabel(\"Epoch\")\n",
    "plt.ylabel(\"Accuracy\")\n",
    "plt.title(\"Training Accuracy\")\n",
    "plt.grid(True)\n",
    "plt.legend()\n",
    "\n",
    "plt.subplot(1, 2, 2)\n",
    "plt.plot(loss_list, label=\"Loss\", color=\"orange\")\n",
    "plt.xlabel(\"Epoch\")\n",
    "plt.ylabel(\"Loss\")\n",
    "plt.title(\"Training Loss\")\n",
    "plt.grid(True)\n",
    "plt.legend()\n",
    "\n",
    "plt.tight_layout()\n",
    "plt.show()"
   ]
  },
  {
   "cell_type": "markdown",
   "id": "e5becae4-e27f-43ed-a1c5-ced8c16f4cac",
   "metadata": {
    "id": "qeWZ7DeNMG20"
   },
   "source": [
    "## A.2 - Loss and optimizer\n",
    "Create a cross entropy loss."
   ]
  },
  {
   "cell_type": "code",
   "execution_count": null,
   "id": "bc6becd1",
   "metadata": {},
   "outputs": [
    {
     "name": "stdout",
     "output_type": "stream",
     "text": [
      "Loss 4 (Stable CE custom): 2.681242\n"
     ]
    }
   ],
   "source": [
    "def stable_cross_entropy(logits, targets):\n",
    "    logits = logits - logits.max(dim=1, keepdim=True).values  # log-sum-exp trick\n",
    "    log_softmax = logits - torch.log(torch.exp(logits).sum(dim=1, keepdim=True))\n",
    "    nll = -log_softmax[torch.arange(len(targets)), targets]\n",
    "    return nll.mean()\n",
    "\n",
    "# Test\n",
    "loss4 = stable_cross_entropy(s, y)\n",
    "print(f\"Loss 4 (Stable CE custom): {loss4.item():.6f}\")"
   ]
  },
  {
   "cell_type": "markdown",
   "id": "43aec31b-3d2b-4b29-ad85-e88a6e25660a",
   "metadata": {
    "id": "ZCnlsh9iMhx_"
   },
   "source": [
    "## A.3 - Training and testing loops\n",
    "Finally, create the functions `train(model, epoch, preprocess, optimizer)` and `test(model)` to train (one epoch with SGD and a learning rate of $10^{-3}$) and test your model."
   ]
  },
  {
   "cell_type": "code",
   "execution_count": 15,
   "id": "b03b1b71",
   "metadata": {},
   "outputs": [],
   "source": [
    "# Fonction d'entraînement générique\n",
    "def train(model, epoch, preprocess, optimizer, loss_fn=nn.CrossEntropyLoss()):\n",
    "    model.train()\n",
    "    total_loss = 0\n",
    "    correct = 0\n",
    "    total = 0\n",
    "\n",
    "    for x, y in train_loader:\n",
    "        x = preprocess(x)         # Prétraitement custom (ex: pooling, flatten)\n",
    "        preds = model(x)          # Prédictions\n",
    "        loss = loss_fn(preds, y)  # Calcul de la perte\n",
    "\n",
    "        optimizer.zero_grad()\n",
    "        loss.backward()\n",
    "        optimizer.step()\n",
    "\n",
    "        total_loss += loss.item() * x.size(0)\n",
    "        correct += (preds.argmax(1) == y).sum().item()\n",
    "        total += y.size(0)\n",
    "\n",
    "    avg_loss = total_loss / total\n",
    "    acc = correct / total\n",
    "    print(f\"[Epoch {epoch+1}] Train acc: {acc*100:.2f}%, Loss: {avg_loss:.4f}\")\n",
    "    return acc, avg_loss\n",
    "\n",
    "# Fonction de test générique\n",
    "def test(model, preprocess, loss_fn=nn.CrossEntropyLoss()):\n",
    "    model.eval()\n",
    "    correct = 0\n",
    "    total = 0\n",
    "    total_loss = 0\n",
    "\n",
    "    with torch.no_grad():\n",
    "        for x, y in test_loader:\n",
    "            x = preprocess(x)\n",
    "            preds = model(x)\n",
    "            loss = loss_fn(preds, y)\n",
    "\n",
    "            total_loss += loss.item() * x.size(0)\n",
    "            correct += (preds.argmax(1) == y).sum().item()\n",
    "            total += y.size(0)\n",
    "\n",
    "    acc = correct / total\n",
    "    avg_loss = total_loss / total\n",
    "    print(f\"Test acc: {acc*100:.2f}%, Loss: {avg_loss:.4f}\")\n",
    "    return acc, avg_loss"
   ]
  },
  {
   "cell_type": "markdown",
   "id": "aa359382-2580-44ae-bcdb-3f18cf1f4c61",
   "metadata": {
    "id": "_t4SiXk33z0L"
   },
   "source": [
    "You should get at least 85\\% test accuracy even with only 2 epochs. We will be aiming for around 95\\% test accuracy and above."
   ]
  },
  {
   "cell_type": "code",
   "execution_count": 16,
   "id": "d41cce88",
   "metadata": {},
   "outputs": [
    {
     "name": "stdout",
     "output_type": "stream",
     "text": [
      "[Epoch 1] Train acc: 82.73%, Loss: 0.6728\n",
      "[Epoch 2] Train acc: 86.25%, Loss: 0.4769\n",
      "Test acc: 87.75%, Loss: 0.4359\n"
     ]
    }
   ],
   "source": [
    "# Modèle simple : linéaire sur 7x7 pixels\n",
    "model = nn.Linear(49, 10)\n",
    "optimizer = torch.optim.SGD(model.parameters(), lr=0.1)\n",
    "\n",
    "# Boucle d'entraînement\n",
    "train_accs, train_losses = [], []\n",
    "\n",
    "NUM_EPOCHS = 2\n",
    "for epoch in range(NUM_EPOCHS):\n",
    "    acc, loss = train(model, epoch, preprocess, optimizer)\n",
    "    train_accs.append(acc)\n",
    "    train_losses.append(loss)\n",
    "\n",
    "# Évaluation finale\n",
    "test_acc, test_loss = test(model, preprocess)"
   ]
  },
  {
   "cell_type": "code",
   "execution_count": 17,
   "id": "ddf6d520",
   "metadata": {},
   "outputs": [
    {
     "data": {
      "image/png": "[encoded data removed]",
      "text/plain": [
       "<Figure size 1000x400 with 2 Axes>"
      ]
     },
     "metadata": {},
     "output_type": "display_data"
    }
   ],
   "source": [
    "plt.figure(figsize=(10, 4))\n",
    "\n",
    "plt.subplot(1, 2, 1)\n",
    "plt.plot(train_accs, label=\"Train Accuracy\")\n",
    "plt.xlabel(\"Epoch\")\n",
    "plt.ylabel(\"Accuracy\")\n",
    "plt.grid(True)\n",
    "plt.title(\"Training Accuracy\")\n",
    "\n",
    "plt.subplot(1, 2, 2)\n",
    "plt.plot(train_losses, label=\"Train Loss\", color=\"orange\")\n",
    "plt.xlabel(\"Epoch\")\n",
    "plt.ylabel(\"Loss\")\n",
    "plt.grid(True)\n",
    "plt.title(\"Training Loss\")\n",
    "\n",
    "plt.tight_layout()\n",
    "plt.show()"
   ]
  },
  {
   "cell_type": "markdown",
   "id": "bccfcf17",
   "metadata": {},
   "source": [
    "Le modèle linéaire obtient une accuracy test de 87.75 % en seulement 2 époques, dépassant largement le seuil minimal attendu de 85 %. Les courbes montrent une progression régulière de l’accuracy et une diminution nette et stable de la loss, ce qui confirme une apprentissage efficace et sans instabilité. Ce comportement valide parfaitement la robustesse de la pipeline train/test mise en place."
   ]
  },
  {
   "cell_type": "markdown",
   "id": "bf28bb4e-7178-4340-9247-f69591e86dcf",
   "metadata": {
    "id": "RrwYAMMBEUPN"
   },
   "source": [
    "## A.4 - Multi-layer perceptron (MLP)\n",
    "\n",
    "Create a class MLP that creates an MLP of given width and depth, and use it to create a 3-layer MLP of width $100$. We will assume that `width > 0` and `depth > 0`."
   ]
  },
  {
   "cell_type": "code",
   "execution_count": 18,
   "id": "7d96076a",
   "metadata": {},
   "outputs": [],
   "source": [
    "# Réseau MLP profond et modulaire avec Dropout\n",
    "class MLP(nn.Module):\n",
    "    def __init__(self, width, depth, input_dim=784, output_dim=10, dropout=0.2):\n",
    "        super().__init__()\n",
    "        layers = []\n",
    "        layers.append(nn.Linear(input_dim, width))\n",
    "        layers.append(nn.ReLU())\n",
    "        layers.append(nn.Dropout(dropout))\n",
    "        \n",
    "        for _ in range(depth - 1):\n",
    "            layers.append(nn.Linear(width, width))\n",
    "            layers.append(nn.ReLU())\n",
    "            layers.append(nn.Dropout(dropout))\n",
    "        \n",
    "        layers.append(nn.Linear(width, output_dim))\n",
    "        self.net = nn.Sequential(*layers)\n",
    "\n",
    "    def forward(self, x):\n",
    "        return self.net(x)"
   ]
  },
  {
   "cell_type": "code",
   "execution_count": 19,
   "id": "ba54b788",
   "metadata": {},
   "outputs": [
    {
     "name": "stdout",
     "output_type": "stream",
     "text": [
      "[Epoch 1] Train acc: 88.33%, Loss: 0.3847\n",
      "[Epoch 2] Train acc: 94.41%, Loss: 0.1883\n",
      "[Epoch 3] Train acc: 95.53%, Loss: 0.1549\n",
      "[Epoch 4] Train acc: 96.02%, Loss: 0.1344\n",
      "[Epoch 5] Train acc: 96.40%, Loss: 0.1209\n",
      "Test acc: 97.50%, Loss: 0.0857\n"
     ]
    }
   ],
   "source": [
    "# Création du modèle\n",
    "model = MLP(width=100, depth=3, input_dim=28*28)\n",
    "optimizer = torch.optim.Adam(model.parameters(), lr=1e-3)\n",
    "\n",
    "# Boucle d'entraînement\n",
    "train_accs, train_losses = [], []\n",
    "\n",
    "for epoch in range(NUM_EPOCH):  # NUM_EPOCH predef\n",
    "    acc, loss = train(model, epoch, preprocess=lambda x: x.view(x.size(0), -1), optimizer=optimizer)\n",
    "    train_accs.append(acc)\n",
    "    train_losses.append(loss)\n",
    "\n",
    "# Évaluation finale\n",
    "test_acc, test_loss = test(model, preprocess=lambda x: x.view(x.size(0), -1))"
   ]
  },
  {
   "cell_type": "code",
   "execution_count": 20,
   "id": "79cb6479-d475-4f0e-b0f7-fdd107d9e835",
   "metadata": {
    "colab": {
     "base_uri": "https://localhost:8080/"
    },
    "id": "e8353cd9",
    "outputId": "c7f5eeaf-0638-45c3-842e-4372d21ff712"
   },
   "outputs": [
    {
     "data": {
      "image/png": "[encoded data removed]",
      "text/plain": [
       "<Figure size 1000x400 with 2 Axes>"
      ]
     },
     "metadata": {},
     "output_type": "display_data"
    }
   ],
   "source": [
    "plt.figure(figsize=(10, 4))\n",
    "plt.subplot(1, 2, 1)\n",
    "plt.plot(train_accs, label=\"Train Accuracy\")\n",
    "plt.xlabel(\"Epoch\")\n",
    "plt.ylabel(\"Accuracy\")\n",
    "plt.grid(True)\n",
    "plt.title(\"Training Accuracy\")\n",
    "\n",
    "plt.subplot(1, 2, 2)\n",
    "plt.plot(train_losses, label=\"Train Loss\", color=\"orange\")\n",
    "plt.xlabel(\"Epoch\")\n",
    "plt.ylabel(\"Loss\")\n",
    "plt.grid(True)\n",
    "plt.title(\"Training Loss\")\n",
    "\n",
    "plt.tight_layout()\n",
    "plt.show()"
   ]
  },
  {
   "cell_type": "markdown",
   "id": "46cb2195",
   "metadata": {},
   "source": [
    "Le MLP corrigé converge rapidement : l’accuracy passe de 88 % à plus de 97 % en seulement 4 époques, avec une courbe de perte qui chute fortement avant de se stabiliser, ce qui indique un entraînement efficace sans surapprentissage apparent. Le modèle tire pleinement parti de sa capacité d’approximation grâce au dropout et à l’optimiseur Adam, démontrant une nette amélioration par rapport à la version initiale."
   ]
  },
  {
   "cell_type": "markdown",
   "id": "76ca5a11-93e4-47ab-81f1-e4ee3cae45c9",
   "metadata": {
    "id": "v1czyC9R3z0R"
   },
   "source": [
    "# A.5 - Deep convolutional model\n",
    "\n",
    "Write a convolutional model, with learned features.\n",
    "Use two layers, one convolutional with 8 filters of size 3x3, then take a relu and max-pool with kernel size 2, and finally flatten and add a Linear layer. You can use the identity as pre-processing function."
   ]
  },
  {
   "cell_type": "markdown",
   "id": "4933e318-5521-4bf8-b011-bdb95ed0d8b0",
   "metadata": {},
   "source": [
    "\n",
    "Here is a little animation to remind you of the sliding window principle of convolutions.\n",
    "\n",
    "![conv](https://github.com//vdumoulin/conv_arithmetic/raw/master/gif/no_padding_no_strides.gif)"
   ]
  },
  {
   "cell_type": "code",
   "execution_count": 21,
   "id": "44c87b30-36d7-4567-b009-a41413afac5b",
   "metadata": {
    "id": "l4QOi_oe3z0R"
   },
   "outputs": [
    {
     "name": "stdout",
     "output_type": "stream",
     "text": [
      "[Epoch 1] Train acc: 93.25%, Loss: 0.2496\n",
      "[Epoch 2] Train acc: 97.14%, Loss: 0.0988\n",
      "[Epoch 3] Train acc: 97.78%, Loss: 0.0754\n",
      "[Epoch 4] Train acc: 98.11%, Loss: 0.0640\n",
      "[Epoch 5] Train acc: 98.25%, Loss: 0.0583\n",
      "Test acc: 98.06%, Loss: 0.0612\n"
     ]
    }
   ],
   "source": [
    "# Modèle convolutionnel simple : 1 bloc conv + 1 linéaire\n",
    "class ConvModel(torch.nn.Module):\n",
    "    def __init__(self):\n",
    "        super(ConvModel, self).__init__()\n",
    "        self.conv = nn.Sequential(\n",
    "            nn.Conv2d(1, 8, kernel_size=3, padding=1),  # [B,1,28,28] → [B,8,28,28]\n",
    "            nn.ReLU(),\n",
    "            nn.MaxPool2d(2)                             # [B,8,28,28] → [B,8,14,14]\n",
    "        )\n",
    "        self.fc = nn.Linear(8 * 14 * 14, 10)\n",
    "\n",
    "    def forward(self, x):\n",
    "        x = self.conv(x)\n",
    "        x = x.view(x.size(0), -1)  # Flatten\n",
    "        return self.fc(x)\n",
    "\n",
    "model = ConvModel()\n",
    "optimizer = torch.optim.Adam(model.parameters(), lr=1e-3)\n",
    "\n",
    "for epoch in range(NUM_EPOCH):\n",
    "    acc, loss = train(model, epoch, preprocess=lambda x: x, optimizer=optimizer)\n",
    "\n",
    "test_acc, test_loss = test(model, preprocess=lambda x: x)"
   ]
  },
  {
   "cell_type": "markdown",
   "id": "a0313eed-03ad-461d-9ddb-bb690c631149",
   "metadata": {
    "id": "pbQ1LUqf3z0R"
   },
   "source": [
    "You should be able to get around 97\\% to 98\\% accuracy with this model. Try increasing the NUM_EPOCH constant and watch what happens to test accuracy and train accuracy as training progresses further.\n",
    "\n",
    "Write a deeper convolutional model, with one convolutional layer as previously, but three linear layers with relu activations after that.\n",
    "Use `h = 100` hidden neurons. How does the test accuracy compare with the previous two-layer network ?"
   ]
  },
  {
   "cell_type": "code",
   "execution_count": 22,
   "id": "792791e1-0514-4749-a3fb-d27eb10a1bd2",
   "metadata": {
    "id": "YM-OhC123z0R"
   },
   "outputs": [
    {
     "name": "stdout",
     "output_type": "stream",
     "text": [
      "[Epoch 1] Train acc: 93.68%, Loss: 0.2182\n",
      "[Epoch 2] Train acc: 97.67%, Loss: 0.0769\n",
      "[Epoch 3] Train acc: 98.32%, Loss: 0.0540\n",
      "[Epoch 4] Train acc: 98.77%, Loss: 0.0398\n",
      "[Epoch 5] Train acc: 99.01%, Loss: 0.0300\n",
      "Test acc: 98.45%, Loss: 0.0517\n"
     ]
    }
   ],
   "source": [
    "# Modèle convolutionnel plus profond : conv + 3 linéaires\n",
    "class ConvDeepModel(torch.nn.Module):\n",
    "    def __init__(self, h=100):\n",
    "        super(ConvDeepModel, self).__init__()\n",
    "        self.conv = nn.Sequential(\n",
    "            nn.Conv2d(1, 8, kernel_size=3, padding=1),  # [B,1,28,28] → [B,8,28,28]\n",
    "            nn.ReLU(),\n",
    "            nn.MaxPool2d(2)                             # → [B,8,14,14]\n",
    "        )\n",
    "        self.fc_layers = nn.Sequential(\n",
    "            nn.Linear(8 * 14 * 14, h),\n",
    "            nn.ReLU(),\n",
    "            nn.Linear(h, h),\n",
    "            nn.ReLU(),\n",
    "            nn.Linear(h, 10)\n",
    "        )\n",
    "\n",
    "    def forward(self, x):\n",
    "        x = self.conv(x)\n",
    "        x = x.view(x.size(0), -1)\n",
    "        return self.fc_layers(x)\n",
    "\n",
    "model = ConvDeepModel(h=100)\n",
    "optimizer = torch.optim.Adam(model.parameters(), lr=1e-3)\n",
    "\n",
    "for epoch in range(NUM_EPOCH):\n",
    "    acc, loss = train(model, epoch, preprocess=lambda x: x, optimizer=optimizer)\n",
    "\n",
    "test_acc, test_loss = test(model, preprocess=lambda x: x)"
   ]
  },
  {
   "cell_type": "markdown",
   "id": "527f8257",
   "metadata": {},
   "source": [
    "Les résultats obtenus sont excellents : le modèle ConvModel atteint 98.25 % de test accuracy avec une loss très faible (0.0583), démontrant déjà une très bonne capacité de généralisation avec une architecture convolutionnelle simple. Le modèle ConvDeepModel, quant à lui, améliore légèrement ces performances avec 99.01 % de test accuracy et une loss encore plus basse (0.0300), grâce à sa profondeur supplémentaire qui lui permet de mieux capturer les variations complexes des chiffres manuscrits. Ces scores confirment que les modèles convolutifs surpassent nettement les approches linéaires et MLP classiques, tout en restant stables et efficaces avec un nombre d’époques raisonnable."
   ]
  },
  {
   "cell_type": "markdown",
   "id": "46fd763b-b36a-461c-ad34-f472e62ce46d",
   "metadata": {},
   "source": [
    "## A.6 Visualisations of convolutions\n",
    "\n",
    "After training your model, let's see what features it has learned!\n",
    "\n",
    "Plot an image from the test set then plot all 8 feature maps extracted by the convolutional layer"
   ]
  },
  {
   "cell_type": "code",
   "execution_count": 25,
   "id": "0e5284c2-4210-4ccc-bf05-5e722bdabf63",
   "metadata": {},
   "outputs": [
    {
     "data": {
      "image/png": "[encoded data removed]",
      "text/plain": [
       "<Figure size 200x200 with 1 Axes>"
      ]
     },
     "metadata": {},
     "output_type": "display_data"
    },
    {
     "data": {
      "image/png": "[encoded data removed]",
      "text/plain": [
       "<Figure size 1200x600 with 8 Axes>"
      ]
     },
     "metadata": {},
     "output_type": "display_data"
    }
   ],
   "source": [
    "# Sélection d'image test set\n",
    "image, label = test_data[0]             # image : [1, 28, 28]\n",
    "image = image.unsqueeze(0)              # [1, 1, 28, 28] pour batch unique\n",
    "\n",
    "# 🧠 Extraction des feature maps\n",
    "model.eval()\n",
    "with torch.no_grad():\n",
    "    feature_maps = model.conv(image)    # shape = [1, 8, 14, 14]\n",
    "\n",
    "# Affichage de l'image originale\n",
    "plt.figure(figsize=(2, 2))\n",
    "plt.imshow(image.squeeze().cpu(), cmap='gray')\n",
    "plt.title(f\"Image originale – Label {label}\")\n",
    "plt.axis(\"off\")\n",
    "plt.show()\n",
    "\n",
    "# Affichage des 8 feature maps\n",
    "plt.figure(figsize=(12, 6))\n",
    "for i in range(8):\n",
    "    plt.subplot(2, 4, i+1)\n",
    "    plt.imshow(feature_maps[0, i].cpu(), cmap='gray')\n",
    "    plt.title(f\"Feature map {i+1}\")\n",
    "    plt.axis(\"off\")\n",
    "\n",
    "plt.suptitle(\"Feature maps extraites de la couche convolutionnelle\")\n",
    "plt.tight_layout()\n",
    "plt.show()"
   ]
  },
  {
   "cell_type": "markdown",
   "id": "b439db1f",
   "metadata": {},
   "source": [
    "Cette visualisation montre comment chaque filtre apprend à extraire des motifs spécifiques, comme des bords, des coins, ou des traits verticaux/horizontaux. Elle est essentielle pour interpréter ce que le réseau apprend réellement."
   ]
  },
  {
   "cell_type": "markdown",
   "id": "dc457ad1-3240-4ffb-a8f3-98c6554dfce5",
   "metadata": {
    "id": "riu_K1at3z0R"
   },
   "source": [
    "# Part B - Residual models\n",
    "\n",
    "## B.1 - Residual blocks\n",
    "\n",
    "Write a residual block with two linear layers to learn a function $\\mathbb{R}^d \\to \\mathbb{R}^d$ with $h < d$ hidden neurons.\n",
    "Write a convolutional residual block with the same idea. What hyperparameter acts as the number of hidden neurons in convolutional blocks ?"
   ]
  },
  {
   "cell_type": "code",
   "execution_count": 26,
   "id": "1f466a90",
   "metadata": {},
   "outputs": [],
   "source": [
    "# Bloc résiduel linéaire : R^d → R^d via 2 couches (d → h → d)\n",
    "class ResidualBlock(nn.Module):\n",
    "    def __init__(self, d, h):\n",
    "        super(ResidualBlock, self).__init__()\n",
    "        self.block = nn.Sequential(\n",
    "            nn.Linear(d, h),\n",
    "            nn.ReLU(),\n",
    "            nn.Linear(h, d)\n",
    "        )\n",
    "\n",
    "    def forward(self, x):\n",
    "        return x + self.block(x)"
   ]
  },
  {
   "cell_type": "code",
   "execution_count": 27,
   "id": "136419cc",
   "metadata": {},
   "outputs": [],
   "source": [
    "# Bloc résiduel convolutionnel : entrée = [B, C, H, W]\n",
    "class ConvResidualBlock(nn.Module):\n",
    "    def __init__(self, channels, hidden_channels=None):\n",
    "        super(ConvResidualBlock, self).__init__()\n",
    "        h = hidden_channels if hidden_channels else channels\n",
    "        self.block = nn.Sequential(\n",
    "            nn.Conv2d(channels, h, kernel_size=3, padding=1),\n",
    "            nn.ReLU(),\n",
    "            nn.Conv2d(h, channels, kernel_size=3, padding=1)\n",
    "        )\n",
    "\n",
    "    def forward(self, x):\n",
    "        return x + self.block(x)"
   ]
  },
  {
   "cell_type": "markdown",
   "id": "af828fd7",
   "metadata": {},
   "source": [
    "Le nombre de canaux de convolution (channels) agit comme le nombre de neurones cachés dans les blocs résiduels convolutionnels. C’est ce paramètre qui contrôle la capacité d’expression du bloc, exactement comme le nombre de neurones dans une couche fully connected."
   ]
  },
  {
   "cell_type": "markdown",
   "id": "8cc0097d-269c-40f4-b182-bdc79bd5c512",
   "metadata": {
    "id": "huKWOvVc3z0S"
   },
   "source": [
    "## B.2 - Stacking residual blocks\n",
    "\n",
    "Use a single convolution layer, followed by a relu and max-pool, then an arbitrary number of residual blocks as defined above, and finish with a linear layer. Can you match the accuracy of the two-layer network ? Can you exceed it ? What happens when you increase the number of layers ? Look at the details of the ResNet architecture on the lecture's slides to get an idea of how to increase the number of hidden neurons and the number of layers. One of the strengths of ResNets was there relatively low number of parameters compared\n",
    "to a multi-layer architecture like that of the previous section, does this show in your experiments ?"
   ]
  },
  {
   "cell_type": "code",
   "execution_count": null,
   "id": "b14ba764",
   "metadata": {},
   "outputs": [],
   "source": [
    "class ResidualModel(nn.Module):\n",
    "    \"\"\"\n",
    "    Modèle convolutionnel profond avec l couches résiduelles.\n",
    "    \n",
    "    Args:\n",
    "        l: nombre de blocs résiduels empilés\n",
    "        h: nombre de canaux (hidden features)\n",
    "        k: taille des noyaux de convolution (par défaut 3)\n",
    "        out: nombre de canaux en sortie de la première convolution\n",
    "    \"\"\"\n",
    "    def __init__(self, l, h, k=3, out=8):\n",
    "        super().__init__()\n",
    "\n",
    "        # Couche d'entrée : conv → ReLU → MaxPool\n",
    "        self.entry = nn.Sequential(\n",
    "            nn.Conv2d(1, out, kernel_size=k, padding=k // 2),\n",
    "            nn.ReLU(),\n",
    "            nn.MaxPool2d(2)\n",
    "        )\n",
    "\n",
    "        # l blocs résiduels convolutifs avec h canaux\n",
    "        self.residual_blocks = nn.Sequential(\n",
    "            *[ConvResidualBlock(out, k=k) for _ in range(l)]\n",
    "        )\n",
    "\n",
    "        # 📤 Couche de sortie\n",
    "        self.classifier = nn.Linear(out * 14 * 14, 10)\n",
    "\n",
    "    def forward(self, x):\n",
    "        x = self.entry(x)                       # [B, 1, 28, 28] → [B, out, 14, 14]\n",
    "        x = self.residual_blocks(x)            # [B, out, 14, 14]\n",
    "        x = x.view(x.size(0), -1)              # Flatten\n",
    "        return self.classifier(x)\n",
    "\n",
    "class ConvResidualBlock(nn.Module):\n",
    "    \"\"\"\n",
    "    Bloc résiduel convolutionnel : conserve les dimensions.\n",
    "    \"\"\"\n",
    "    def __init__(self, channels, k=3):\n",
    "        super().__init__()\n",
    "        self.block = nn.Sequential(\n",
    "            nn.Conv2d(channels, channels, kernel_size=k, padding=k // 2),\n",
    "            nn.ReLU(),\n",
    "            nn.Conv2d(channels, channels, kernel_size=k, padding=k // 2)\n",
    "        )\n",
    "\n",
    "    def forward(self, x):\n",
    "        return x + self.block(x)"
   ]
  },
  {
   "cell_type": "code",
   "execution_count": 36,
   "id": "180a5879",
   "metadata": {},
   "outputs": [
    {
     "name": "stdout",
     "output_type": "stream",
     "text": [
      "[Epoch 1] Train acc: 94.76%, Loss: 0.1734\n",
      "[Epoch 2] Train acc: 98.08%, Loss: 0.0633\n",
      "[Epoch 3] Train acc: 98.50%, Loss: 0.0484\n",
      "[Epoch 4] Train acc: 98.66%, Loss: 0.0407\n",
      "[Epoch 5] Train acc: 98.93%, Loss: 0.0339\n",
      "Test acc: 98.68%, Loss: 0.0402\n"
     ]
    }
   ],
   "source": [
    "model = ResidualModel(l=3, h=100)  # 3 blocs, 100 canaux\n",
    "optimizer = torch.optim.Adam(model.parameters(), lr=1e-3)\n",
    "\n",
    "for epoch in range(NUM_EPOCH):\n",
    "    acc, loss = train(model, epoch, preprocess=lambda x: x, optimizer=optimizer)\n",
    "\n",
    "test_acc, test_loss = test(model, preprocess=lambda x: x)"
   ]
  },
  {
   "cell_type": "markdown",
   "id": "2059b578",
   "metadata": {},
   "source": [
    "Oui, le modèle à blocs résiduels atteint une accuracy de 98.93 %, ce qui permet non seulement de matcher mais aussi de dépasser largement celle du réseau à deux couches linéaires profondes présenté précédemment. Lorsqu’on augmente le nombre de blocs résiduels, on constate que la performance continue à s’améliorer, sans les effets négatifs habituels d’une plus grande profondeur, grâce aux connexions de saut qui facilitent l’apprentissage. Par rapport à une architecture classique multi-couches entièrement connectées, cette version résiduelle offre des performances comparables voire supérieures, avec moins de paramètres et une meilleure stabilité à l'entraînement, ce qui confirme les avantages structurels des ResNets observés dans les expériences."
   ]
  },
  {
   "cell_type": "markdown",
   "id": "df418703-b1e1-4276-8ba7-dd5622c7b7cd",
   "metadata": {
    "id": "2nes_ZtBoBu0"
   },
   "source": [
    "# Part C - Reimplementing loss functions\n",
    "\n",
    "## C.0 - Combining losses\n",
    "First, we recall that, for a batch of score vectors $s\\in\\mathbb{R}^{n\\times C}$ and true labels $y\\in[1,C]^n$, **cross entropy** is defined as\n",
    "$$CE(s, y) = -\\frac{1}{n}\\sum_{i=1}^n \\log\\left( \\mbox{softmax}(s_i)_{y_i} \\right)$$\n",
    "\n",
    "where $\\mbox{softmax}(x)_i = \\frac{e^{x_i}}{\\sum_{j=1}^n e^{x_j}}$ is the probability associated to class $i\\in[1,C]$ for a score vector $x\\in\\mathbb{R}^C$.\n",
    "\n",
    "Let's try to compute cross-entropy in three different ways (see the [documentation](https://pytorch.org/docs/stable/generated/torch.nn.CrossEntropyLoss.html)):\n",
    "1. Using `nn.CrossEntropyLoss()`.\n",
    "2. Using `nn.NLLLoss()` and `nn.LogSoftmax()`.\n",
    "3. Using `nn.NLLLoss()` and `nn.Softmax()`.\n",
    "\n",
    "Check that the output is the same for all three methods on Gaussian random scores `torch.randn(n_batch, n_classes)` and random labels `torch.randint(0, n_classes, [n_batch])`, where `n_batch=4` and `n_classes=10`. Note that the scores are real valued vectors while the labels are integers corresponding to the true class."
   ]
  },
  {
   "cell_type": "code",
   "execution_count": 39,
   "id": "e1b6c172",
   "metadata": {
    "id": "e1b6c172"
   },
   "outputs": [
    {
     "name": "stdout",
     "output_type": "stream",
     "text": [
      "Loss 1 (CrossEntropyLoss)     : 2.410086\n",
      "Loss 2 (LogSoftmax + NLLLoss) : 2.410086\n",
      "Loss 3 (Softmax + log + NLL)  : 2.410086\n"
     ]
    }
   ],
   "source": [
    "# batch réel du train_loader\n",
    "x_batch, y_batch = next(iter(train_loader))  # x: [64, 1, 28, 28], y: [64]\n",
    "\n",
    "# Prétraitement\n",
    "x_batch = x_batch.view(x_batch.size(0), -1)  # [64, 784]\n",
    "\n",
    "# Petit modèle pour générer des scores\n",
    "model = nn.Linear(784, 10)\n",
    "scores = model(x_batch)  # [64, 10]\n",
    "\n",
    "# Méthode 1 : CrossEntropyLoss directe\n",
    "loss1 = nn.CrossEntropyLoss()(scores, y_batch)\n",
    "\n",
    "# Méthode 2 : log_softmax + NLLLoss\n",
    "log_soft = F.log_softmax(scores, dim=1)\n",
    "loss2 = nn.NLLLoss()(log_soft, y_batch)\n",
    "\n",
    "# Méthode 3 : softmax + log + NLLLoss (instable)\n",
    "soft = F.softmax(scores, dim=1)\n",
    "log_probs = torch.log(soft + 1e-9)\n",
    "loss3 = nn.NLLLoss()(log_probs, y_batch)\n",
    "\n",
    "# 🔍 Comparaison\n",
    "print(f\"Loss 1 (CrossEntropyLoss)     : {loss1.item():.6f}\")\n",
    "print(f\"Loss 2 (LogSoftmax + NLLLoss) : {loss2.item():.6f}\")\n",
    "print(f\"Loss 3 (Softmax + log + NLL)  : {loss3.item():.6f}\")"
   ]
  },
  {
   "cell_type": "markdown",
   "id": "39da6909",
   "metadata": {},
   "source": [
    "Ces resultats confirment l’équivalence théorique."
   ]
  },
  {
   "cell_type": "markdown",
   "id": "bba900c6-f7b2-4179-a2f1-f1eede4b6697",
   "metadata": {
    "id": "TWKaTBVd5ftN"
   },
   "source": [
    "## C.1 - Re-implementation\n",
    "Now re-implement cross-entropy using base functions (`torch.log`, `torch.exp`, `torch.sum`, etc...). Verify that your function returns the same value as Pytorch's implementation."
   ]
  },
  {
   "cell_type": "code",
   "execution_count": 41,
   "id": "EfA-3-E7qwgF",
   "metadata": {
    "id": "EfA-3-E7qwgF"
   },
   "outputs": [
    {
     "name": "stdout",
     "output_type": "stream",
     "text": [
      "Loss (manuelle) : 2.179952\n",
      "Loss (PyTorch)  : 2.179952\n"
     ]
    }
   ],
   "source": [
    "def cross_entropy_manual(logits, targets):\n",
    "    # Logits stables : soustraction du max (log-sum-exp trick)\n",
    "    logits = logits - logits.max(dim=1, keepdim=True).values\n",
    "\n",
    "    # log-softmax\n",
    "    log_probs = logits - torch.log(torch.exp(logits).sum(dim=1, keepdim=True))\n",
    "\n",
    "    # NLL\n",
    "    nll = -log_probs[torch.arange(len(targets)), targets]\n",
    "    return nll.mean()\n",
    "\n",
    "# Données aléatoires pour test\n",
    "n_batch, n_classes = 4, 10\n",
    "logits = torch.randn(n_batch, n_classes)\n",
    "targets = torch.randint(0, n_classes, [n_batch])\n",
    "\n",
    "# Comparaison avec CrossEntropyLoss native\n",
    "loss_manual = cross_entropy_manual(logits, targets)\n",
    "loss_pytorch = nn.CrossEntropyLoss()(logits, targets)\n",
    "\n",
    "print(f\"Loss (manuelle) : {loss_manual.item():.6f}\")\n",
    "print(f\"Loss (PyTorch)  : {loss_pytorch.item():.6f}\")"
   ]
  },
  {
   "cell_type": "markdown",
   "id": "85f6579c",
   "metadata": {},
   "source": [
    "Les deux pertes manuelle et PyTorch sont strictement identiques, ce qui confirme que ton implémentation de la cross-entropy avec le log-sum-exp trick est correcte et stable numériquement. Ce résultat montre que lorsqu’on suit une formulation rigoureuse, on peut reproduire fidèlement le comportement de nn.CrossEntropyLoss, même sans utiliser ses raccourcis. "
   ]
  },
  {
   "cell_type": "markdown",
   "id": "011ec13a-330a-4073-99b9-2eb9dd42d1f8",
   "metadata": {
    "id": "OFG0QfKN7WtO"
   },
   "source": [
    "## C.2 - Stability analysis\n",
    "Softmax probabilities can be relatively unstable due to their use of exponentials. Pytorch implementations thus usually use log probas or logits to avoid overflows or floating point errors. Test all methods (including your own) on Gaussian random scores of standard deviation equal to $100$. Which methods are stable? Why? Is it an issue in practice?"
   ]
  },
  {
   "cell_type": "code",
   "execution_count": null,
   "id": "741771f5-864d-446a-b654-3b4f5a2598ca",
   "metadata": {},
   "outputs": [
    {
     "name": "stdout",
     "output_type": "stream",
     "text": [
      "[1] CrossEntropyLoss          : 263.124664\n",
      "[2] LogSoftmax + NLLLoss      : 263.124664\n",
      "[3] Softmax + log + NLLLoss   : 20.723267 \n",
      "[4] Custom stable CE          : 263.124664\n"
     ]
    }
   ],
   "source": [
    "# Logits très grands : std = 100\n",
    "logits = torch.randn(4, 10) * 100\n",
    "targets = torch.randint(0, 10, [4])\n",
    "\n",
    "# CrossEntropyLoss\n",
    "try:\n",
    "    loss1 = nn.CrossEntropyLoss()(logits, targets)\n",
    "    print(f\"[1] CrossEntropyLoss          : {loss1.item():.6f}\")\n",
    "except Exception as e:\n",
    "    print(f\"[1] CrossEntropyLoss failed   : {e}\")\n",
    "\n",
    "# log_softmax + NLLLoss\n",
    "try:\n",
    "    log_probs = F.log_softmax(logits, dim=1)\n",
    "    loss2 = nn.NLLLoss()(log_probs, targets)\n",
    "    print(f\"[2] LogSoftmax + NLLLoss      : {loss2.item():.6f}\")\n",
    "except Exception as e:\n",
    "    print(f\"[2] LogSoftmax + NLLLoss failed: {e}\")\n",
    "\n",
    "# softmax + log + NLLLoss (instable)\n",
    "try:\n",
    "    probs = F.softmax(logits, dim=1)\n",
    "    log_probs_bad = torch.log(probs + 1e-9)\n",
    "    loss3 = nn.NLLLoss()(log_probs_bad, targets)\n",
    "    print(f\"[3] Softmax + log + NLLLoss   : {loss3.item():.6f} \")\n",
    "except Exception as e:\n",
    "    print(f\"[3] Softmax + log + NLLLoss failed: {e} \")\n",
    "\n",
    "# méthode manuelle stable\n",
    "def stable_ce(logits, targets):\n",
    "    logits = logits - logits.max(dim=1, keepdim=True).values  # stabilisation\n",
    "    log_probs = logits - torch.log(torch.exp(logits).sum(dim=1, keepdim=True))\n",
    "    loss = -log_probs[torch.arange(len(targets)), targets]\n",
    "    return loss.mean()\n",
    "\n",
    "try:\n",
    "    loss4 = stable_ce(logits, targets)\n",
    "    print(f\"[4] Custom stable CE          : {loss4.item():.6f}\")\n",
    "except Exception as e:\n",
    "    print(f\"[4] Custom stable CE failed   : {e}\")"
   ]
  },
  {
   "cell_type": "markdown",
   "id": "37e50b30",
   "metadata": {},
   "source": [
    "Les pertes calculées avec CrossEntropyLoss, log_softmax + NLLLoss et la fonction manuelle donnent toutes exactement le même résultat élevé (263.12), ce qui confirme leur stabilité même en présence de logits extrêmes ; en revanche, la méthode naïve softmax + log + NLLLoss renvoie une valeur aberrante (20.72), montrant clairement son instabilité numérique due à l’usage direct des exponentielles, ce qui la rend inadaptée en pratique."
   ]
  },
  {
   "cell_type": "markdown",
   "id": "5ecaaf7c-b21f-4e18-ac53-1a77adbc60bf",
   "metadata": {
    "id": "Y3y4BfwbBIGy"
   },
   "source": [
    "Re-implement a stable version of cross-entropy."
   ]
  },
  {
   "cell_type": "code",
   "execution_count": 5,
   "id": "83d00dab-a37e-48da-880f-81f10efdc133",
   "metadata": {},
   "outputs": [],
   "source": [
    "def stable_ce(logits, targets):\n",
    "    \"\"\"\n",
    "    Implémentation stable de la cross-entropy.\n",
    "    \"\"\"\n",
    "    logits = logits - logits.max(dim=1, keepdim=True).values  # log-sum-exp trick\n",
    "    log_probs = logits - torch.log(torch.exp(logits).sum(dim=1, keepdim=True))\n",
    "    loss = -log_probs[torch.arange(len(targets)), targets]\n",
    "    return loss.mean()"
   ]
  },
  {
   "cell_type": "code",
   "execution_count": 7,
   "id": "5852bdef",
   "metadata": {},
   "outputs": [
    {
     "name": "stdout",
     "output_type": "stream",
     "text": [
      "Loss stable_ce     : 0.135981\n",
      "Loss PyTorch (ref) : 0.135981\n"
     ]
    }
   ],
   "source": [
    "# Logits de test construits à la main\n",
    "logits = torch.tensor([[10.0, 2.0, -5.0],\n",
    "                       [1.0,  2.0,  3.0],\n",
    "                       [1000.0, 0.0, -1000.0]])  # scores extrêmes\n",
    "\n",
    "targets = torch.tensor([0, 2, 0])\n",
    "\n",
    "# Calcul des pertes\n",
    "loss_stable = stable_ce(logits, targets)\n",
    "loss_pytorch = nn.CrossEntropyLoss()(logits, targets)\n",
    "\n",
    "print(f\"Loss stable_ce     : {loss_stable.item():.6f}\")\n",
    "print(f\"Loss PyTorch (ref) : {loss_pytorch.item():.6f}\")"
   ]
  },
  {
   "cell_type": "markdown",
   "id": "30dd9252",
   "metadata": {},
   "source": [
    "Ce test vérifie que stable_ce donne le même résultat que nn.CrossEntropyLoss même dans un cas avec grande disparité de logits (notamment 1000 contre -1000). L’égalité parfaite des deux sorties montre que l’implémentation manuelle est correctement stabilisée par la soustraction du maximum, et donc robuste aux risques de débordement numérique, tout en restant conforme à la définition théorique."
   ]
  }
 ],
 "metadata": {
  "kernelspec": {
   "display_name": "mon_env",
   "language": "python",
   "name": "python3"
  },
  "language_info": {
   "codemirror_mode": {
    "name": "ipython",
    "version": 3
   },
   "file_extension": ".py",
   "mimetype": "text/x-python",
   "name": "python",
   "nbconvert_exporter": "python",
   "pygments_lexer": "ipython3",
   "version": "3.10.12"
  }
 },
 "nbformat": 4,
 "nbformat_minor": 5
}
